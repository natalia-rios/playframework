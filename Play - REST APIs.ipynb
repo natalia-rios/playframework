{
 "cells": [
  {
   "cell_type": "markdown",
   "metadata": {},
   "source": [
    "# REST APIs"
   ]
  },
  {
   "cell_type": "markdown",
   "metadata": {},
   "source": [
    "https://developer.lightbend.com/guides/play-rest-api/part-1/index.html"
   ]
  },
  {
   "cell_type": "markdown",
   "metadata": {},
   "source": [
    "**REST é uma forma de descrever como a arquitetura da Web - e outros sistemas semelhantes - é diferente.**\n",
    "\n",
    "A característica principal que define REST são as **quatro regras de interface uniforme**. Por definição, REST APIs são APIs que seguem estas regras."
   ]
  },
  {
   "cell_type": "markdown",
   "metadata": {},
   "source": [
    "### Regra 1: Oferece acesso por meio de *recursos*\n",
    "\n",
    "Em sistemas típicos, clientes e servidores trocam *comandos*. Suponha que queremos modelar uma lista em uma forma não-REST. Em uma linguagem técnica:\n",
    "\n",
    "**NÃO-REST**\n",
    ">*changeTodoList.php?item=35&action=changeTitle&title=new_title*\n",
    "\n",
    "Note como isto é de fato uma instrução.\n",
    "\n",
    "No estilo da arquitetura REST, servidores oferecem apenas recursos. Recursos são coisas conceituais sobre as quais clientes e servidores se comunicam.\n",
    "\n",
    "**REST**\n",
    ">*/todolists/7/items/35/*\n",
    "\n",
    "Isto não é um comando, mas um endereço de um recurso. Você pode utilizar este endereço para manipular a lista utilizando operações padrão, em vez de comandos específicos da interface."
   ]
  },
  {
   "cell_type": "markdown",
   "metadata": {},
   "source": [
    "### Regra 2: Representa recursos por *representações*\n",
    "\n",
    "Um recurso é uma \"coisa\" - e podemos descrevê-las em formatos diferentes. Por exemplo, humanos podem querer ver uma versão HTML, a qual seu browser transforma em um layout legível. Mas, às vezes, interfaces na Web são utilizadas por máquinas também. Elas precisam de um formato diferente, tal como *JSON*.\n",
    "\n",
    "Em um formato não-REST, formatos diferentes possuem endereços diferentes:\n",
    "\n",
    "**NÃO-REST**\n",
    ">**browser**: */showTodoList.php?format=html\n",
    "\n",
    ">**applicação**: */showTodoList.php?format=json\n",
    "\n",
    "O problema é que sistemas que utilizam diferentes formatos não podem comunicar-se entre si, pois eles u tilizam endereços diferentes para a mesma coisa.\n",
    "\n",
    "Em um sistema REST, endereços identificam coisas, não formatos, então todos os sistemas utilizam o mesmo endereço para a mesma coisa. Como eles identicam diferentes formatos? Eles pedem por eles explicitamente.\n",
    "\n",
    "**REST**\n",
    ">**browser**: \"Eu quero */todolists/7/*, por favor me dê HTML.\"\n",
    "\n",
    ">**aplicação**: \"Eu quero *todolists/7/*, por favor me dê JSON\".\n",
    "\n",
    "A técnica que habilita isso é chamada *negociação de conteúdo*."
   ]
  },
  {
   "cell_type": "markdown",
   "metadata": {},
   "source": [
    "### Regra 3: Troca de mensagens auto-descritivas\n",
    "\n",
    "Em um sistema REST, devemos ser capazes de interpretar qualquer mensagem sem haver visto a anterior. \n",
    "\n",
    "Imagine a seguinte conversa:\n",
    "\n",
    "**NÃO-REST**\n",
    ">1.*/search-results?q=todo*\n",
    "\n",
    ">2.*/search-results?page=2*\n",
    "\n",
    ">3.*/search-results?page=3*\n",
    "\n",
    "O primeiro pedido recebe resultados de procura para \"todo\"; o segundo pedido recebe a segunda página disto. Agora, imagine que você quer ver apenas o segundo pedido. Como você sabe, como um servidor, o que fazer?\n",
    "\n",
    "Em REST, cada pedido pode ser interpretada por si mesma.\n",
    "\n",
    "**REST**\n",
    ">1.*/search-results?q=to-do*\n",
    "\n",
    ">2.*/search-results?q=todo&page=2*\n",
    "\n",
    ">3.*/search-results?q=todo&page=3*\n",
    "\n",
    "Outro aspecto disto, é que clientes e servidores REST usam apenas operações padrões, que são definidas em uma *especificação*. Para a Web, esta especificação é denominada *HTTP*."
   ]
  },
  {
   "cell_type": "markdown",
   "metadata": {},
   "source": [
    "### Regra 4: Conecta recursos por meio de *links*\n",
    "\n",
    "Como se pode navegar em um website que você nunca viu anteriormente? Usa-se links! Você não precisa editar manualmente a barra de endereço no seu browser toda vez que você vai para uma nova página.\n",
    "\n",
    "Em interfaces de máquina, isto não é sempre o caso. Suponha que uma aplicação pede por sua lista:\n",
    "\n",
    "**NÃO-REST**\n",
    ">*/todolists/7*"
   ]
  },
  {
   "cell_type": "code",
   "execution_count": null,
   "metadata": {},
   "outputs": [],
   "source": [
    "{\n",
    "    \"name\": \"My-to-dos\",\n",
    "    \"itens\": [35,36]\n",
    "}"
   ]
  },
  {
   "cell_type": "markdown",
   "metadata": {},
   "source": [
    "Como você recebe os itens da lista? Você precisa ler a documentação.\n",
    "\n",
    "Em REST, recursos conectam-se entre si por meio de hyperlinks:\n",
    "\n",
    "**REST**\n",
    ">*todolists/7/*"
   ]
  },
  {
   "cell_type": "code",
   "execution_count": null,
   "metadata": {},
   "outputs": [],
   "source": [
    "{\n",
    "    \"name\": \"My to-dos\"\n",
    "    \"items\": [\"/todolists/7/items/35/\",\"/todolists/7/items/36\"]\n",
    "}"
   ]
  },
  {
   "cell_type": "markdown",
   "metadata": {},
   "source": [
    "Note que não é necessário ler o manual para saber como recuperar os itens de sua lista. Você apenas segue os links."
   ]
  },
  {
   "cell_type": "markdown",
   "metadata": {},
   "source": [
    "# CRIANDO UMA REST API"
   ]
  },
  {
   "cell_type": "markdown",
   "metadata": {},
   "source": [
    "Começaremos com uma REST API que mostra informação para posts de blog. Usuários devem ser capazes de digitar um título e um corpo de um post e criar novos posts, editar e deletar. "
   ]
  },
  {
   "cell_type": "markdown",
   "metadata": {},
   "source": [
    "### Modelando um Post Resource"
   ]
  },
  {
   "cell_type": "markdown",
   "metadata": {},
   "source": [
    "A forma de fazer isto em REST é modelar o estado representado como um recurso. Um recurso de post de blog terá uma ID única, um hiperlink de URL que indica a localização canônica do recurso, o título de um post de um  blog, e o corpo.\n",
    "\n",
    "Este recurso é representado como um único case class na aplicação Play:"
   ]
  },
  {
   "cell_type": "code",
   "execution_count": 1,
   "metadata": {},
   "outputs": [
    {
     "data": {
      "text/plain": [
       "defined \u001b[32mclass\u001b[39m \u001b[36mPostResource\u001b[39m"
      ]
     },
     "execution_count": 1,
     "metadata": {},
     "output_type": "execute_result"
    }
   ],
   "source": [
    "case class PostResource(id: String, link: String,\n",
    "                        title: String, body: String)"
   ]
  },
  {
   "cell_type": "markdown",
   "metadata": {},
   "source": [
    "Este recurso é mapeado para e do JSON no front end usando Play, e é mapeado para e de um datastore persistente no backend utilizando um handler."
   ]
  },
  {
   "cell_type": "markdown",
   "metadata": {},
   "source": [
    "O Play manipula roteamento HTTP e representação para o REST API, e torna fácil escrever uma API assíncrona que é uma ordem de magnitude mais eficiente que outros frameworks para aplicações web."
   ]
  },
  {
   "cell_type": "markdown",
   "metadata": {},
   "source": [
    "### Encaminhamento de Post Requests"
   ]
  },
  {
   "cell_type": "markdown",
   "metadata": {},
   "source": [
    "O Play possui dois mecanismos de roteamento complementares. No diretório *conf*, há um arquivo chamado \"routes\" o qual contém entradas para o método HTTP e um caminho URL relativo, e aponta para uma ação em um controller."
   ]
  },
  {
   "cell_type": "code",
   "execution_count": null,
   "metadata": {},
   "outputs": [],
   "source": [
    "GET              /               controllers.HomeController.index"
   ]
  },
  {
   "cell_type": "markdown",
   "metadata": {},
   "source": [
    "Isto é útil para situações onde um serviço front end está renderizando HTML. No entanto, o Play contém um poderoso roteamento DSL que utilizaremos para a REST API.\n",
    "\n",
    "Para qualquer request HTTP iniciando com */v1/posts*, o Play encaminha para uma classe dedicada *PostRouter* para manipular o recurso Posts, por meio do arquivo *conf/routes*:"
   ]
  },
  {
   "cell_type": "code",
   "execution_count": null,
   "metadata": {},
   "outputs": [],
   "source": [
    "->            /v1/posts         v1.post.PostRouter"
   ]
  },
  {
   "cell_type": "markdown",
   "metadata": {},
   "source": [
    "O *PostRouter* examina a URL e extrai dados para passar ao longo do controller: "
   ]
  },
  {
   "cell_type": "code",
   "execution_count": null,
   "metadata": {},
   "outputs": [],
   "source": [
    "package v1.post\n",
    "import javax.inject.Inject\n",
    "\n",
    "import play.api.mvc._\n",
    "import play.api.routing.Router.Routes\n",
    "import play.api.routing.SimpleRouter\n",
    "import play.api.routing.sird._\n",
    "\n",
    "class PostRouter @Inject()(controller: PostController)\n",
    "  extends SimpleRouter\n",
    "{\n",
    "  override def routes: Routes = {\n",
    "    case GET(p\"/\") =>\n",
    "     controller.index\n",
    "      \n",
    "    case POST(p\"/\") =>\n",
    "      controller.process\n",
    "\n",
    "    case GET(p\"/$id\") =>\n",
    "      controller.show(id)\n",
    "  }\n",
    "}"
   ]
  },
  {
   "cell_type": "markdown",
   "metadata": {},
   "source": [
    "O roteamento DSL do Play (tecnicamente \"String Interpolation Routing DSL, ou SIRD) mostra como dados podem ser extraídos da URL de forma limpa e concisa. O SIRD é baseado em métodos HTTP e um objecto extrator de string interpolada. Naturalmente, há também operadores para extrair queries, expressões regulares e adicionar extratores customizados. Se você possui uma URL:"
   ]
  },
  {
   "cell_type": "code",
   "execution_count": null,
   "metadata": {},
   "outputs": [],
   "source": [
    "/posts/?sort=ascending&count=5"
   ]
  },
  {
   "cell_type": "markdown",
   "metadata": {},
   "source": [
    "então você pode extrair os parâmetros \"count\" e \"sort\" em uma única linha:"
   ]
  },
  {
   "cell_type": "code",
   "execution_count": null,
   "metadata": {},
   "outputs": [],
   "source": [
    "GET(\"/\" ? q_?\"sort=$sort\" & q_?”count=${ int(count) }\")"
   ]
  },
  {
   "cell_type": "markdown",
   "metadata": {},
   "source": [
    "https://www.cakesolutions.net/teamblogs/all-you-need-to-know-about-plays-routing-dsl"
   ]
  },
  {
   "cell_type": "markdown",
   "metadata": {},
   "source": [
    "### Usando um Controller"
   ]
  },
  {
   "cell_type": "markdown",
   "metadata": {},
   "source": [
    "O PostRouter possui um PostController injetado nele por meio de injeção dependente padrão JSR-330:"
   ]
  },
  {
   "cell_type": "code",
   "execution_count": null,
   "metadata": {},
   "outputs": [],
   "source": [
    "class PostRouter @Inject()(controller: PostController)\n",
    "  extends SimpleRouter"
   ]
  },
  {
   "cell_type": "markdown",
   "metadata": {},
   "source": [
    "Vamos discutir como controllers trabalham no Play.\n",
    "\n",
    "Um controller lida com o trabalho de processar a requisição HTTP em uma resposta HTTP no contexto de uma ação: é onde uma página renderizando e processamento de formulário HTML acontecem. Um controller extende *play.api.mvc.Controller*, o qual contém um número de métodos utilitários e constantes para trabalhar com HTTP. Em particular, um Controller contém objetos de Resultado como Ok e Rediect, e nomes de cabeçalho como ACCEPT.\n",
    "\n",
    "Os métodos em um controller consistem em um método retornando uma **Ação**. A ação provém o mecanismo para o Play.\n",
    "\n",
    "Utilizando a ação, o controller passa um bloco de código que recebe uma **Requisição** passada como implícita - isto significa que qualquer método dentro do escopo que recebe uma requisição implícita como parâmetro utilizará essa requisição automaticamente. Então, o bloco deve retornar ou um **Resultado** ou um **Futuro[Resultado]**, dependendo se a ação foi chamada como *action {...}* ou *action.async{...}*."
   ]
  },
  {
   "cell_type": "markdown",
   "metadata": {},
   "source": [
    "### Lidando com GET Requests"
   ]
  },
  {
   "cell_type": "markdown",
   "metadata": {},
   "source": [
    "Aqui está um exemplo simples de um Controller:"
   ]
  },
  {
   "cell_type": "code",
   "execution_count": null,
   "metadata": {},
   "outputs": [],
   "source": [
    "import javax.inject.Inject\n",
    "import play.api.mvc._\n",
    "\n",
    "import scala.concurrent._\n",
    "\n",
    "class MyController extends Controller {\n",
    "\n",
    "  def index1: Action[AnyContent] = {\n",
    "    Action { implicit request =>\n",
    "      val r: Result = Ok(\"hello world\")\n",
    "      r\n",
    "    }\n",
    "  }\n",
    "\n",
    "  def asyncIndex: Action[AnyContent] = {\n",
    "    Action.async { implicit request =>\n",
    "      val r: Future[Result] = Future.successful(Ok(\"hello world\"))\n",
    "      r\n",
    "    }\n",
    "  }\n",
    "}"
   ]
  },
  {
   "cell_type": "markdown",
   "metadata": {},
   "source": [
    "Neste exemplo, *index1* e *asyncIndex* possuem exatamente o mesmo comportamento. Internamente, não faz diferença se chamamos *Result* ou *Future[Result]*. No entanto, se você já está trabalhando com *Future*, async torna mais fácil "
   ]
  }
 ],
 "metadata": {
  "kernelspec": {
   "display_name": "Scala",
   "language": "scala",
   "name": "scala"
  },
  "language_info": {
   "codemirror_mode": "text/x-scala",
   "file_extension": ".scala",
   "mimetype": "text/x-scala",
   "name": "scala211",
   "nbconvert_exporter": "script",
   "pygments_lexer": "scala",
   "version": "2.11.11"
  }
 },
 "nbformat": 4,
 "nbformat_minor": 2
}

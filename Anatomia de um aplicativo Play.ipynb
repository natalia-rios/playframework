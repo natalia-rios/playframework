{
 "cells": [
  {
   "cell_type": "markdown",
   "metadata": {},
   "source": [
    "# Anatomia de um aplicativo Play"
   ]
  },
  {
   "cell_type": "markdown",
   "metadata": {},
   "source": [
    "## O layout de um aplicativo Play"
   ]
  },
  {
   "cell_type": "markdown",
   "metadata": {},
   "source": [
    "O layout de um aplicativo Play é padronizado para manter as coisas o mais simples possível. Após uma primeira compilação bem-sucedida, um aplicativo Play será assim:"
   ]
  },
  {
   "cell_type": "code",
   "execution_count": null,
   "metadata": {},
   "outputs": [],
   "source": [
    "app                      → Application sources\n",
    " └ assets                → Compiled asset sources\n",
    "    └ stylesheets        → Typically LESS CSS sources\n",
    "    └ javascripts        → Typically CoffeeScript sources\n",
    " └ controllers           → Application controllers\n",
    " └ models                → Application business layer\n",
    " └ views                 → Templates\n",
    "build.sbt                → Application build script\n",
    "conf                     → Configurations files and other non-compiled resources (on classpath)\n",
    " └ application.conf      → Main configuration file\n",
    " └ routes                → Routes definition\n",
    "dist                     → Arbitrary files to be included in your projects distribution\n",
    "public                   → Public assets\n",
    " └ stylesheets           → CSS files\n",
    " └ javascripts           → Javascript files\n",
    " └ images                → Image files\n",
    "project                  → sbt configuration files\n",
    " └ build.properties      → Marker for sbt project\n",
    " └ plugins.sbt           → sbt plugins including the declaration for Play itself\n",
    "lib                      → Unmanaged libraries dependencies\n",
    "logs                     → Logs folder\n",
    " └ application.log       → Default log file\n",
    "target                   → Generated stuff\n",
    " └ resolution-cache      → Info about dependencies\n",
    " └ scala-2.11\n",
    "    └ api                → Generated API docs\n",
    "    └ classes            → Compiled class files\n",
    "    └ routes             → Sources generated from routes\n",
    "    └ twirl              → Sources generated from templates\n",
    " └ universal             → Application packaging\n",
    " └ web                   → Compiled web assets\n",
    "test                     → source folder for unit or functional tests"
   ]
  },
  {
   "cell_type": "markdown",
   "metadata": {},
   "source": [
    "## O diretório *app*/"
   ]
  },
  {
   "cell_type": "markdown",
   "metadata": {},
   "source": [
    "O diretório *app/* contem todos os artifatos executáveis: códigos-fonte Scala e Java, modelos e fontes compiladas. Há três pacotes no diretório *app/*, uma para cada componente do padrão arquitetônico MVC:\n",
    "\n",
    "> app/controllers\n",
    "<br></br>\n",
    ">app/models\n",
    "<br></br>\n",
    ">app/views\n",
    "\n",
    "Você pode adicionar seus próprios pacotes. "
   ]
  },
  {
   "cell_type": "markdown",
   "metadata": {},
   "source": [
    "## O diretório *public*/\n",
    "\n",
    "Recursos armazenados no diretório *public* são recursos estáticos que são servidos diretamente pelo servidor Web.\n",
    "\n",
    "Este diretório é dividido em três sub-diretórios para imagens, páginas CSS e arquivos JavaScript. Você deve organizar seus recursos estáticos dessa maneira para manter seu aplicativo consistente. \n",
    "\n",
    "> Em um aplicativo novo, o diretório */public* é mapeado ao caminho URL */assets*, mas você pode mudar isto facilmente."
   ]
  },
  {
   "cell_type": "markdown",
   "metadata": {},
   "source": [
    "## O diretório *conf*/"
   ]
  },
  {
   "cell_type": "markdown",
   "metadata": {},
   "source": [
    "O diretório *conf/* contém os arquivos de configuração do aplicativo. Há dois arquivos de configuração principais:\n",
    "\n",
    ">**application.conf**, o arquivo de configuração principal para o aplicativo, que contém os parâmetros de configuração.\n",
    "\n",
    ">**routes**, o arquivo de definição de rotas."
   ]
  },
  {
   "cell_type": "markdown",
   "metadata": {},
   "source": [
    "Se for preciso adicionar opções de configurações que são específicas para seu aplicativo, é uma boa ideia adicionar mais opções ao arquivo *application.conf*.\n",
    "\n",
    "Se uma biblioteca precisa de um arquivo de configuração específico, tente arquivá-lo sobre o diretório **conf**."
   ]
  },
  {
   "cell_type": "markdown",
   "metadata": {},
   "source": [
    "## O diretório *lib/*"
   ]
  },
  {
   "cell_type": "markdown",
   "metadata": {},
   "source": [
    "O diretório *lib* é opcional e contém dependências de biblioteca não-gerenciadas, como por exemplo todos os arquivos JAR que você quiser gerenciar fora do sistema de construção. Apenas coloque quaisquer arquivos JAR aqui e eles serão adicionados ao caminho de classe de seu aplicativo."
   ]
  },
  {
   "cell_type": "markdown",
   "metadata": {},
   "source": [
    "## O arquivo *build.sbt*"
   ]
  },
  {
   "cell_type": "markdown",
   "metadata": {},
   "source": [
    "As declarações principais da build do seu projeto são, em geral, encontradas em *build.sbt* na raiz do projeto. Arquivos .scala no diretório *project/* podem ser utilizados também para declarar a build do seu projeto."
   ]
  },
  {
   "cell_type": "markdown",
   "metadata": {},
   "source": [
    "## O diretório *project*/"
   ]
  },
  {
   "cell_type": "markdown",
   "metadata": {},
   "source": [
    "O diretório *project* contém as definições sbt da build:"
   ]
  },
  {
   "cell_type": "markdown",
   "metadata": {},
   "source": [
    ">*plugins.sbt* define plugins sbt utilizados por este projeto.\n",
    "<br></br>\n",
    ">*build.properties* contém a versão sbt para construir seu app."
   ]
  },
  {
   "cell_type": "markdown",
   "metadata": {},
   "source": [
    "## O diretório *target*/"
   ]
  },
  {
   "cell_type": "markdown",
   "metadata": {},
   "source": [
    "O diretório *target* contém tudo que é gerado pelo sistema de construção. Pode ser útil para saber o que é gerado."
   ]
  },
  {
   "cell_type": "markdown",
   "metadata": {},
   "source": [
    ">**classes/** contém todas as classes compiladas (de fontes Java e Scala).\n",
    "<br></br>\n",
    ">**classes_managed** contém apenas as classes que são gerenciadas pelo framework (tais como as classes geradas pelo router ou o sistema de modelo). Pode ser útil adicionar a pasta desta classe como uma pasta de classe externa no projeto da sua IDE.\n",
    "<br></br>\n",
    ">**resource_managed**/ contém recursos gerados, tipicamente recursos compilados tais como LESS CSS e resultados de compilação do CoffeeScript.\n",
    "<br></br>\n",
    ">**src_managed/** contém fontes geradas, tais como fontes Scala geradas pelo sistema de modelo.\n",
    "<br></br>\n",
    ">**web/** contém recursos processados pelo *sbt-web* tais como aqueles do *app/assets* e pastas *public*."
   ]
  },
  {
   "cell_type": "markdown",
   "metadata": {},
   "source": [
    "## Arquivo *.gitignore* típico"
   ]
  },
  {
   "cell_type": "markdown",
   "metadata": {},
   "source": [
    "Pastas geradas devem ser ignoradas por seu sistema de controle de versão. Aqui está o típico arquivo *.gitignore* para uma aplicação Play:"
   ]
  },
  {
   "cell_type": "code",
   "execution_count": null,
   "metadata": {},
   "outputs": [],
   "source": [
    "logs\n",
    "project/project\n",
    "project/target\n",
    "target\n",
    "tmp\n",
    "dist\n",
    ".cache"
   ]
  }
 ],
 "metadata": {
  "kernelspec": {
   "display_name": "Scala",
   "language": "scala",
   "name": "scala"
  },
  "language_info": {
   "codemirror_mode": "text/x-scala",
   "file_extension": ".scala",
   "mimetype": "text/x-scala",
   "name": "scala211",
   "nbconvert_exporter": "script",
   "pygments_lexer": "scala",
   "version": "2.11.11"
  }
 },
 "nbformat": 4,
 "nbformat_minor": 2
}
